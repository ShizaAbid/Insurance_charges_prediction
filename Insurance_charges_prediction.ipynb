{
 "cells": [
  {
   "cell_type": "code",
   "execution_count": 2,
   "metadata": {},
   "outputs": [],
   "source": [
    "import pandas as pd\n",
    "data = pd.read_csv('D:\\\\Datasets\\\\Linear regression\\\\Insurance_charges_prediction(linear Regression)\\\\insurance.csv')"
   ]
  },
  {
   "cell_type": "code",
   "execution_count": 3,
   "metadata": {},
   "outputs": [
    {
     "data": {
      "text/html": [
       "<div>\n",
       "<style scoped>\n",
       "    .dataframe tbody tr th:only-of-type {\n",
       "        vertical-align: middle;\n",
       "    }\n",
       "\n",
       "    .dataframe tbody tr th {\n",
       "        vertical-align: top;\n",
       "    }\n",
       "\n",
       "    .dataframe thead th {\n",
       "        text-align: right;\n",
       "    }\n",
       "</style>\n",
       "<table border=\"1\" class=\"dataframe\">\n",
       "  <thead>\n",
       "    <tr style=\"text-align: right;\">\n",
       "      <th></th>\n",
       "      <th>age</th>\n",
       "      <th>sex</th>\n",
       "      <th>bmi</th>\n",
       "      <th>children</th>\n",
       "      <th>smoker</th>\n",
       "      <th>region</th>\n",
       "      <th>charges</th>\n",
       "    </tr>\n",
       "  </thead>\n",
       "  <tbody>\n",
       "    <tr>\n",
       "      <th>0</th>\n",
       "      <td>19</td>\n",
       "      <td>female</td>\n",
       "      <td>27.900</td>\n",
       "      <td>0</td>\n",
       "      <td>yes</td>\n",
       "      <td>southwest</td>\n",
       "      <td>16884.92400</td>\n",
       "    </tr>\n",
       "    <tr>\n",
       "      <th>1</th>\n",
       "      <td>18</td>\n",
       "      <td>male</td>\n",
       "      <td>33.770</td>\n",
       "      <td>1</td>\n",
       "      <td>no</td>\n",
       "      <td>southeast</td>\n",
       "      <td>1725.55230</td>\n",
       "    </tr>\n",
       "    <tr>\n",
       "      <th>2</th>\n",
       "      <td>28</td>\n",
       "      <td>male</td>\n",
       "      <td>33.000</td>\n",
       "      <td>3</td>\n",
       "      <td>no</td>\n",
       "      <td>southeast</td>\n",
       "      <td>4449.46200</td>\n",
       "    </tr>\n",
       "    <tr>\n",
       "      <th>3</th>\n",
       "      <td>33</td>\n",
       "      <td>male</td>\n",
       "      <td>22.705</td>\n",
       "      <td>0</td>\n",
       "      <td>no</td>\n",
       "      <td>northwest</td>\n",
       "      <td>21984.47061</td>\n",
       "    </tr>\n",
       "    <tr>\n",
       "      <th>4</th>\n",
       "      <td>32</td>\n",
       "      <td>male</td>\n",
       "      <td>28.880</td>\n",
       "      <td>0</td>\n",
       "      <td>no</td>\n",
       "      <td>northwest</td>\n",
       "      <td>3866.85520</td>\n",
       "    </tr>\n",
       "  </tbody>\n",
       "</table>\n",
       "</div>"
      ],
      "text/plain": [
       "   age     sex     bmi  children smoker     region      charges\n",
       "0   19  female  27.900         0    yes  southwest  16884.92400\n",
       "1   18    male  33.770         1     no  southeast   1725.55230\n",
       "2   28    male  33.000         3     no  southeast   4449.46200\n",
       "3   33    male  22.705         0     no  northwest  21984.47061\n",
       "4   32    male  28.880         0     no  northwest   3866.85520"
      ]
     },
     "execution_count": 3,
     "metadata": {},
     "output_type": "execute_result"
    }
   ],
   "source": [
    "data.head()"
   ]
  },
  {
   "cell_type": "code",
   "execution_count": 4,
   "metadata": {},
   "outputs": [
    {
     "name": "stdout",
     "output_type": "stream",
     "text": [
      "<class 'pandas.core.frame.DataFrame'>\n",
      "RangeIndex: 1338 entries, 0 to 1337\n",
      "Data columns (total 7 columns):\n",
      "age         1338 non-null int64\n",
      "sex         1338 non-null object\n",
      "bmi         1338 non-null float64\n",
      "children    1338 non-null int64\n",
      "smoker      1338 non-null object\n",
      "region      1338 non-null object\n",
      "charges     1338 non-null float64\n",
      "dtypes: float64(2), int64(2), object(3)\n",
      "memory usage: 73.2+ KB\n"
     ]
    }
   ],
   "source": [
    "data.info()"
   ]
  },
  {
   "cell_type": "code",
   "execution_count": 5,
   "metadata": {},
   "outputs": [
    {
     "name": "stdout",
     "output_type": "stream",
     "text": [
      "age 0\n",
      "sex 0\n",
      "bmi 0\n",
      "children 0\n",
      "smoker 0\n",
      "region 0\n",
      "charges 0\n"
     ]
    }
   ],
   "source": [
    "for col in data.columns:\n",
    "    print(col,data[col].isnull().sum())"
   ]
  },
  {
   "cell_type": "code",
   "execution_count": 6,
   "metadata": {},
   "outputs": [
    {
     "name": "stdout",
     "output_type": "stream",
     "text": [
      "<class 'pandas.core.frame.DataFrame'>\n",
      "RangeIndex: 1338 entries, 0 to 1337\n",
      "Data columns (total 7 columns):\n",
      "age         1338 non-null int64\n",
      "sex         1338 non-null object\n",
      "bmi         1338 non-null float64\n",
      "children    1338 non-null int64\n",
      "smoker      1338 non-null object\n",
      "region      1338 non-null object\n",
      "charges     1338 non-null float64\n",
      "dtypes: float64(2), int64(2), object(3)\n",
      "memory usage: 73.2+ KB\n"
     ]
    }
   ],
   "source": [
    "data.info()"
   ]
  },
  {
   "cell_type": "code",
   "execution_count": 7,
   "metadata": {},
   "outputs": [
    {
     "name": "stderr",
     "output_type": "stream",
     "text": [
      "Using TensorFlow backend.\n"
     ]
    }
   ],
   "source": [
    "from sklearn.preprocessing import LabelEncoder\n",
    "from keras.utils import to_categorical"
   ]
  },
  {
   "cell_type": "code",
   "execution_count": 8,
   "metadata": {},
   "outputs": [],
   "source": [
    "le = LabelEncoder()\n",
    "data['sex'] = le.fit_transform(data['sex'])\n",
    "data['sex'] = to_categorical(data['sex'])\n",
    "data['smoker'] = le.fit_transform(data['smoker'])\n",
    "data['smoker'] = to_categorical(data['smoker'])"
   ]
  },
  {
   "cell_type": "code",
   "execution_count": 9,
   "metadata": {},
   "outputs": [
    {
     "name": "stdout",
     "output_type": "stream",
     "text": [
      "<class 'pandas.core.frame.DataFrame'>\n",
      "RangeIndex: 1338 entries, 0 to 1337\n",
      "Data columns (total 7 columns):\n",
      "age         1338 non-null int64\n",
      "sex         1338 non-null float32\n",
      "bmi         1338 non-null float64\n",
      "children    1338 non-null int64\n",
      "smoker      1338 non-null float32\n",
      "region      1338 non-null object\n",
      "charges     1338 non-null float64\n",
      "dtypes: float32(2), float64(2), int64(2), object(1)\n",
      "memory usage: 62.8+ KB\n"
     ]
    }
   ],
   "source": [
    "data.info()"
   ]
  },
  {
   "cell_type": "code",
   "execution_count": 10,
   "metadata": {},
   "outputs": [],
   "source": [
    "data.drop('region',axis=1,inplace=True)"
   ]
  },
  {
   "cell_type": "code",
   "execution_count": 11,
   "metadata": {},
   "outputs": [
    {
     "name": "stdout",
     "output_type": "stream",
     "text": [
      "<class 'pandas.core.frame.DataFrame'>\n",
      "RangeIndex: 1338 entries, 0 to 1337\n",
      "Data columns (total 6 columns):\n",
      "age         1338 non-null int64\n",
      "sex         1338 non-null float32\n",
      "bmi         1338 non-null float64\n",
      "children    1338 non-null int64\n",
      "smoker      1338 non-null float32\n",
      "charges     1338 non-null float64\n",
      "dtypes: float32(2), float64(2), int64(2)\n",
      "memory usage: 52.3 KB\n"
     ]
    }
   ],
   "source": [
    "data.info()"
   ]
  },
  {
   "cell_type": "code",
   "execution_count": 12,
   "metadata": {},
   "outputs": [
    {
     "name": "stdout",
     "output_type": "stream",
     "text": [
      "<class 'pandas.core.frame.DataFrame'>\n",
      "RangeIndex: 1338 entries, 0 to 1337\n",
      "Data columns (total 6 columns):\n",
      "age         1338 non-null float64\n",
      "sex         1338 non-null float64\n",
      "bmi         1338 non-null float64\n",
      "children    1338 non-null float64\n",
      "smoker      1338 non-null float64\n",
      "charges     1338 non-null float64\n",
      "dtypes: float64(6)\n",
      "memory usage: 62.8 KB\n"
     ]
    }
   ],
   "source": [
    "data = data.astype('float')\n",
    "data.info()"
   ]
  },
  {
   "cell_type": "code",
   "execution_count": 24,
   "metadata": {},
   "outputs": [],
   "source": [
    "import matplotlib.pyplot as plt"
   ]
  },
  {
   "cell_type": "code",
   "execution_count": 26,
   "metadata": {},
   "outputs": [],
   "source": [
    "x = data[['age','bmi','smoker','sex']]\n",
    "y = data['charges']"
   ]
  },
  {
   "cell_type": "code",
   "execution_count": 27,
   "metadata": {},
   "outputs": [
    {
     "data": {
      "image/png": "[encoded data removed]",
      "text/plain": [
       "<Figure size 432x288 with 1 Axes>"
      ]
     },
     "metadata": {},
     "output_type": "display_data"
    }
   ],
   "source": [
    "plt.scatter(x['smoker'], y, color='black')\n",
    "plt.scatter(x['age'], y, color='pink')\n",
    "#plt.scatter(x['children'], y, color='red')\n",
    "plt.scatter(x['bmi'], y, color='blue')\n",
    "#plt.scatter(xtest, pred_y, color='blue', linewidth=3)\n",
    "plt.xticks(())\n",
    "plt.yticks(())\n",
    "plt.show()"
   ]
  },
  {
   "cell_type": "code",
   "execution_count": 28,
   "metadata": {},
   "outputs": [],
   "source": [
    "from sklearn.model_selection import train_test_split"
   ]
  },
  {
   "cell_type": "code",
   "execution_count": 29,
   "metadata": {},
   "outputs": [],
   "source": [
    "xtrain , xtest, ytrain , ytest =train_test_split(x,y,random_state =0 ,test_size = 0.3)"
   ]
  },
  {
   "cell_type": "code",
   "execution_count": 30,
   "metadata": {},
   "outputs": [
    {
     "data": {
      "text/plain": [
       "LinearRegression(copy_X=True, fit_intercept=True, n_jobs=10000,\n",
       "         normalize=False)"
      ]
     },
     "execution_count": 30,
     "metadata": {},
     "output_type": "execute_result"
    }
   ],
   "source": [
    "from sklearn.linear_model import LinearRegression\n",
    "\n",
    "lin_reg = LinearRegression(n_jobs=10000)\n",
    "lin_reg.fit(xtrain,ytrain)"
   ]
  },
  {
   "cell_type": "code",
   "execution_count": 31,
   "metadata": {},
   "outputs": [],
   "source": [
    "test = pd.DataFrame([58.0,35.700,0.0,1.0])"
   ]
  },
  {
   "cell_type": "code",
   "execution_count": 32,
   "metadata": {},
   "outputs": [],
   "source": [
    "test = test.T"
   ]
  },
  {
   "cell_type": "code",
   "execution_count": 33,
   "metadata": {},
   "outputs": [],
   "source": [
    "y_pred = lin_reg.predict(xtest)"
   ]
  },
  {
   "cell_type": "code",
   "execution_count": 34,
   "metadata": {},
   "outputs": [
    {
     "data": {
      "text/plain": [
       "11726.450340975854"
      ]
     },
     "execution_count": 34,
     "metadata": {},
     "output_type": "execute_result"
    }
   ],
   "source": [
    "lin_reg.intercept_"
   ]
  },
  {
   "cell_type": "code",
   "execution_count": 35,
   "metadata": {},
   "outputs": [
    {
     "data": {
      "text/plain": [
       "0.727789520359706"
      ]
     },
     "execution_count": 35,
     "metadata": {},
     "output_type": "execute_result"
    }
   ],
   "source": [
    "lin_reg.score(xtrain,ytrain)"
   ]
  },
  {
   "cell_type": "code",
   "execution_count": 36,
   "metadata": {},
   "outputs": [
    {
     "name": "stdout",
     "output_type": "stream",
     "text": [
      "578      9724.53000\n",
      "610      8547.69130\n",
      "569     45702.02235\n",
      "1034    12950.07120\n",
      "198      9644.25250\n",
      "981      4500.33925\n",
      "31       2198.18985\n",
      "1256    11436.73815\n",
      "1219     7537.16390\n",
      "1320     5425.02335\n",
      "613      6753.03800\n",
      "1107    10493.94580\n",
      "1263     7337.74800\n",
      "406      4185.09790\n",
      "795     18310.74200\n",
      "970     10702.64240\n",
      "824     12523.60480\n",
      "141      3490.54910\n",
      "1173     6457.84340\n",
      "1042    33475.81715\n",
      "966     23967.38305\n",
      "467     12643.37780\n",
      "1098    23045.56616\n",
      "757     23065.42070\n",
      "1097     1674.63230\n",
      "319      4667.60765\n",
      "1286     3732.62510\n",
      "459      7682.67000\n",
      "5        3756.62160\n",
      "517      8413.46305\n",
      "           ...     \n",
      "977      2902.90650\n",
      "263     36219.40545\n",
      "1226     6640.54485\n",
      "359      1607.51010\n",
      "1070    39871.70430\n",
      "1115    10807.48630\n",
      "271     42856.83800\n",
      "1233    11345.51900\n",
      "1059     4462.72180\n",
      "1027    21595.38229\n",
      "122      2257.47525\n",
      "992     10118.42400\n",
      "965      4746.34400\n",
      "1334     2205.98080\n",
      "16      10797.33620\n",
      "861      7151.09200\n",
      "432      5969.72300\n",
      "905      4564.19145\n",
      "875      2690.11380\n",
      "609     39241.44200\n",
      "1072     1909.52745\n",
      "351      8932.08400\n",
      "399      1631.66830\n",
      "1180     7650.77375\n",
      "458     10601.41200\n",
      "1261     3277.16100\n",
      "494     17942.10600\n",
      "97      10226.28420\n",
      "418     14418.28040\n",
      "920     13451.12200\n",
      "Name: charges, Length: 402, dtype: float64\n"
     ]
    }
   ],
   "source": [
    "print(ytest)"
   ]
  },
  {
   "cell_type": "code",
   "execution_count": 37,
   "metadata": {},
   "outputs": [
    {
     "name": "stdout",
     "output_type": "stream",
     "text": [
      "[ 1.15444503e+04  1.00038325e+04  3.72765422e+04  1.65198549e+04\n",
      "  7.40167028e+03  4.01878482e+03  1.47198421e+03  1.33027993e+04\n",
      "  7.93151949e+03  6.35662707e+03  3.28238983e+03  9.77089253e+03\n",
      "  9.13322773e+03  4.73111962e+03  2.79271919e+04  1.03952825e+04\n",
      "  1.17343404e+04  5.51378214e+03  7.59776156e+03  2.68083606e+04\n",
      "  3.29818489e+04  1.37787346e+04  1.17896994e+04  3.29454796e+04\n",
      "  4.88456528e+03  8.63492611e+03  1.17024719e+03  9.35007516e+03\n",
      "  4.67077309e+03  9.81732158e+03  7.96289948e+03  4.03248664e+04\n",
      "  1.64647378e+04  1.46104781e+04  2.46059357e+04  5.11532931e+03\n",
      "  1.25478206e+04  3.07301073e+04  3.27149557e+04  4.24070274e+03\n",
      "  4.07816476e+03  4.83025149e+03  3.03780809e+04  3.87176257e+04\n",
      "  2.82999762e+04  4.30145180e+03  1.02890718e+04  7.69109734e+03\n",
      "  3.18905405e+03  1.08720220e+04  5.52528791e+03  2.25206915e+03\n",
      "  3.32324906e+04  3.69541268e+04  1.69030980e+04  6.98222464e+03\n",
      "  6.45680412e+03  9.80404417e+03  7.69552257e+03  1.17343404e+04\n",
      "  2.47189408e+03  3.78019601e+04  1.45634063e+04  1.16997436e+04\n",
      "  1.22493038e+04  1.43053636e+04  2.64080593e+04  3.08640769e+04\n",
      "  8.28684861e+02  8.63814288e+03  1.32714167e+04  1.21185501e+04\n",
      "  2.57188967e+04  1.65760163e+04  1.16706130e+04  1.28019175e+04\n",
      "  7.44005308e+03  9.61978605e+03  2.96103059e+04  3.92877027e+04\n",
      "  1.21582173e+04  3.78166879e+04  4.35029344e+03  9.72237568e+03\n",
      "  3.41710883e+04  2.87193450e+04  8.73132060e+03  5.05514518e+03\n",
      "  1.24975286e+04  3.08966645e+04  8.60177447e+03  1.22287843e+04\n",
      "  8.12503493e+03  8.98758994e+03  8.29939653e+03  6.79780239e+03\n",
      "  3.59187339e+04  3.28993762e+04  6.93499139e+03  1.58363259e+04\n",
      "  4.75542254e+03  8.54480710e+03  6.22651861e+03  3.21784328e+04\n",
      "  3.17704860e+04  2.25528592e+03  9.97864676e+03  6.79619401e+03\n",
      "  1.46076612e+04  3.79009296e+04  9.28328814e+03  1.03302741e+04\n",
      "  1.01064221e+04  2.66241017e+04  4.01229057e+04  7.62994574e+03\n",
      "  5.75792083e+02  9.86519576e+03  1.55872935e+04  8.54882807e+03\n",
      "  3.44961573e+04  7.75369406e+03  1.77535866e+04  8.14490915e+03\n",
      "  8.62108290e+03  2.37839331e+03  3.23967245e+04  3.08085547e+04\n",
      "  4.01860682e+04  5.61878696e+03  9.36455756e+03  3.84337976e+03\n",
      "  8.08600774e+03  8.78015703e+03  3.23144134e+04  3.04895227e+04\n",
      "  3.05892947e+04  8.90833317e+03  3.29140979e+04  3.08179992e+03\n",
      "  3.79654904e+03  1.15030114e+04  1.31162884e+04  1.28938081e+04\n",
      "  5.27239253e+03  1.65530842e+04  1.54286201e+04  1.76446477e+03\n",
      "  2.36642331e+02  1.05394717e+04  6.98366976e+03  3.23140143e+04\n",
      "  1.19600400e+04  2.63965887e+03  6.01289229e+03  8.32337205e+03\n",
      "  4.10568706e+03  2.42723754e+03  1.03824085e+04  1.14666430e+04\n",
      "  5.80465432e+03  1.72790195e+04  1.22515531e+04  1.43417337e+04\n",
      "  3.25100984e+03  5.36009896e+03  2.36842374e+04  6.20117224e+03\n",
      "  5.01129196e+03  5.81857527e+03  5.98810911e+03  4.26097862e+03\n",
      "  9.38588038e+03  6.07782559e+03  5.06922592e+03  5.63005086e+03\n",
      "  2.82391612e+03  5.47314570e+03  3.66847372e+04  1.38283266e+03\n",
      "  1.20648816e+04  7.85725375e+03  1.40721826e+04  6.15064361e+03\n",
      "  4.35511860e+03  3.64566250e+04  4.22799025e+03  2.28023064e+03\n",
      "  1.55859235e+04  1.18037810e+04  3.49841616e+04  4.71462630e+03\n",
      "  6.02375106e+03  3.20802658e+04  6.26248710e+03  2.84000951e+03\n",
      "  7.52091997e+03  8.58688867e+03  7.83955370e+03  5.56165632e+03\n",
      "  1.27689291e+04  3.92897137e+04  1.31821045e+04  2.81315661e+04\n",
      "  6.05006490e+03  3.57777641e+04  2.83799773e+03  1.27996673e+04\n",
      "  8.96908571e+03  6.81727842e+03  1.11791509e+04  1.46678453e+04\n",
      "  4.07494799e+03  5.05377692e+03  8.23059946e+03  2.06756830e+03\n",
      "  6.52680444e+03  4.03109478e+03  1.26317392e+04  3.51291460e+03\n",
      "  9.39754941e+03  5.95978262e+03  1.01128591e+04  2.37678492e+03\n",
      "  1.40675950e+04  1.71478650e+04  1.49663630e+04  1.15249760e+04\n",
      "  4.97789846e+03  3.08099486e+03  2.67506243e+03  1.29517430e+04\n",
      "  1.50037775e+04  3.09250150e+03  4.25840191e+03  9.32489118e+03\n",
      "  9.61720934e+03  2.79718493e+04  7.20027619e+03  9.75681092e+03\n",
      "  7.09148968e+03  2.83983021e+04  1.09299586e+04  7.58190830e+03\n",
      "  9.17442563e+03  1.21137232e+04  2.04141860e+03  1.06394881e+04\n",
      "  1.50416839e+03  6.66640601e+03  2.86974590e+04  3.85167084e+04\n",
      "  6.09214646e+03  8.38412458e+03  2.38925814e+03  3.73831325e+02\n",
      "  1.08488524e+04  4.86267927e+03  3.38836209e+03  2.81530580e+03\n",
      "  6.55214822e+03  3.36523431e+04  3.81688697e+04  1.42703600e+04\n",
      "  8.10346851e+03  1.60901853e+04  3.21316038e+04  8.24307009e+03\n",
      "  3.23325185e+04  4.05580109e+03  2.95435250e+04  7.94777528e+03\n",
      "  1.38406904e+04  3.44693785e+03  3.24262577e+04  7.86875951e+03\n",
      "  1.21748748e+04  7.82667621e+03  3.92142807e+03  1.31720456e+04\n",
      "  1.21590215e+04  8.66630610e+03  1.34465851e+04  2.69501612e+03\n",
      "  1.01049770e+04  4.80048161e+03  9.51462144e+03  3.10803568e+04\n",
      "  1.00325632e+04  1.16880207e+03 -1.30267244e+02  3.93430600e+04\n",
      "  9.36029300e+03  6.90441559e+03  1.34267109e+04  1.30598013e+04\n",
      "  2.78473728e+04  7.54771233e+03  7.21596705e+03  1.29549606e+04\n",
      "  3.08019154e+03  3.51428719e+03  2.40563756e+04  2.67482525e+04\n",
      "  1.40852959e+04  3.23548310e+03  5.19780459e+03  8.85337932e+03\n",
      "  1.25260944e+04  2.34110670e+04  2.91063706e+04  9.42691848e+03\n",
      "  2.41762662e+04  3.07761569e+03  1.21189561e+04  8.14973604e+03\n",
      "  8.37848743e+03 -1.56077851e+01  7.85966632e+03  3.57435681e+04\n",
      "  5.17326414e+03  5.77150268e+03  5.09248669e+02  1.15386569e+04\n",
      "  7.30109677e+03  1.07428793e+04  3.92919656e+04  2.69346848e+04\n",
      "  1.11336893e+04  3.51688248e+04  1.41919100e+04  6.17236809e+03\n",
      "  1.12294394e+04  6.21662383e+03  3.69887236e+04  6.17019391e+03\n",
      "  1.12888176e+04  1.15230702e+03  2.48199672e+04  2.23959593e+03\n",
      "  3.38609024e+04  1.19220632e+04  2.14964018e+03  3.15003761e+04\n",
      "  6.07122531e+03  6.12030621e+03  3.72622965e+04  3.01903994e+03\n",
      "  8.28772749e+03  2.01003861e+03  1.13387070e+04  1.45749920e+03\n",
      "  1.06987920e+04  6.25886520e+03  3.64988699e+04  8.14957104e+03\n",
      "  3.03276309e+04  2.95609866e+04  7.27912956e+03  8.50095389e+03\n",
      "  2.19349340e+03  3.10175275e+03  3.10819149e+03  1.25856376e+04\n",
      "  3.67929605e+04  1.07539040e+04  1.21249202e+03  1.15963472e+04\n",
      "  5.27987733e+03  1.06837421e+04  5.16336676e+03  7.76472476e+03\n",
      "  4.43880146e+03  2.85660669e+04  3.59233203e+03 -3.06239830e+02\n",
      "  3.32884145e+04  1.31203102e+04  3.57485565e+04  1.08854601e+04\n",
      "  7.50362159e+03  2.99402313e+02  2.84869930e+03  1.15024482e+04\n",
      "  6.12167533e+03  3.27595628e+03  1.17591236e+04  7.22022988e+03\n",
      "  7.87937988e+03  4.53278077e+03  3.35440626e+03  3.17012908e+04\n",
      "  3.81481488e+03  9.57134521e+03  5.28752193e+03  1.25500734e+04\n",
      "  1.56110306e+04  7.51810573e+03  2.54642323e+04  1.49258915e+04\n",
      "  1.75517874e+04  1.25017915e+04]\n"
     ]
    }
   ],
   "source": [
    "print(y_pred)"
   ]
  },
  {
   "cell_type": "code",
   "execution_count": null,
   "metadata": {},
   "outputs": [],
   "source": []
  },
  {
   "cell_type": "code",
   "execution_count": null,
   "metadata": {},
   "outputs": [],
   "source": []
  }
 ],
 "metadata": {
  "kernelspec": {
   "display_name": "Python 3",
   "language": "python",
   "name": "python3"
  },
  "language_info": {
   "codemirror_mode": {
    "name": "ipython",
    "version": 3
   },
   "file_extension": ".py",
   "mimetype": "text/x-python",
   "name": "python",
   "nbconvert_exporter": "python",
   "pygments_lexer": "ipython3",
   "version": "3.7.1"
  }
 },
 "nbformat": 4,
 "nbformat_minor": 2
}
